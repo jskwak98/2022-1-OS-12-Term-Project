{
 "cells": [
  {
   "cell_type": "code",
   "execution_count": 32,
   "metadata": {
    "collapsed": true,
    "pycharm": {
     "name": "#%%\n"
    }
   },
   "outputs": [],
   "source": [
    "import heapq\n",
    "from collections import deque\n",
    "from process import Process\n",
    "from utils import Schedule"
   ]
  },
  {
   "cell_type": "code",
   "execution_count": 33,
   "outputs": [],
   "source": [
    "def generate_process():\n",
    "    p1 = Process('p1', 0, 1, 3, 4) #a,s,p,b\n",
    "    p2 = Process('p2', 0, 1, 2, 5)\n",
    "    p3 = Process('p3', 0, 1, 2, 8)\n",
    "    p4 = Process('p4', 0, 1, 1, 7)\n",
    "    p5 = Process('p5', 0, 1, 3, 3)\n",
    "    return [p1,p2,p3,p4,p5]"
   ],
   "metadata": {
    "collapsed": false,
    "pycharm": {
     "name": "#%%\n"
    }
   }
  },
  {
   "cell_type": "code",
   "execution_count": 34,
   "outputs": [],
   "source": [
    "process_list = deque(generate_process())"
   ],
   "metadata": {
    "collapsed": false,
    "pycharm": {
     "name": "#%%\n"
    }
   }
  },
  {
   "cell_type": "code",
   "execution_count": 35,
   "outputs": [
    {
     "name": "stdout",
     "output_type": "stream",
     "text": [
      "{'p1': <process.Process object at 0x0000025683041C30>, 'p2': <process.Process object at 0x0000025683043730>, 'p3': <process.Process object at 0x0000025683041C00>, 'p4': <process.Process object at 0x0000025683040C40>, 'p5': <process.Process object at 0x0000025683040B20>}\n"
     ]
    }
   ],
   "source": [
    "process_dict = {}\n",
    "for p in process_list:\n",
    "    process_dict[p.process_ID] = p\n",
    "print(process_dict)"
   ],
   "metadata": {
    "collapsed": false,
    "pycharm": {
     "name": "#%%\n"
    }
   }
  },
  {
   "cell_type": "code",
   "execution_count": 38,
   "outputs": [
    {
     "data": {
      "text/plain": "[<process.Process at 0x25683041c30>,\n <process.Process at 0x25683043730>,\n <process.Process at 0x25683041c00>,\n <process.Process at 0x25683040c40>,\n <process.Process at 0x25683040b20>]"
     },
     "execution_count": 38,
     "metadata": {},
     "output_type": "execute_result"
    }
   ],
   "source": [
    "sorted(process_list, key=lambda x: x.arrival_time)"
   ],
   "metadata": {
    "collapsed": false,
    "pycharm": {
     "name": "#%%\n"
    }
   }
  },
  {
   "cell_type": "code",
   "execution_count": 39,
   "outputs": [
    {
     "name": "stdout",
     "output_type": "stream",
     "text": [
      "p1\n",
      "p2\n",
      "p3\n",
      "p4\n",
      "p5\n"
     ]
    }
   ],
   "source": [
    "for p in process_list:\n",
    "    print(p.process_ID)"
   ],
   "metadata": {
    "collapsed": false,
    "pycharm": {
     "name": "#%%\n"
    }
   }
  },
  {
   "cell_type": "code",
   "execution_count": 40,
   "outputs": [],
   "source": [
    "time_quantum = 2\n",
    "time = 0\n",
    "pq = []\n",
    "last_out_process = None\n",
    "schedule = Schedule()"
   ],
   "metadata": {
    "collapsed": false,
    "pycharm": {
     "name": "#%%\n"
    }
   }
  },
  {
   "cell_type": "code",
   "execution_count": 41,
   "outputs": [],
   "source": [
    "while True:\n",
    "    if process_list:\n",
    "        if process_list[0].arrival_time <= time: # if it has arrived ready queue before 'now'\n",
    "            while process_list and process_list[0].arrival_time <= time:\n",
    "                p = process_list.popleft()\n",
    "                heapq.heappush(pq, (p.priority, p.last_time_out, p.process_ID))\n",
    "        if not last_out_process and not pq:\n",
    "            time = process_list[0].arrival_time\n",
    "            schedule.add_schedule(\"None\", time)\n",
    "            continue\n",
    "    elif not last_out_process and not pq:\n",
    "        break\n",
    "    if last_out_process:\n",
    "        heapq.heappush(pq, (last_out_process.priority, last_out_process.last_time_out, last_out_process.process_ID))\n",
    "    pid = heapq.heappop(pq)[2]\n",
    "    last_out_process = process_dict[pid]\n",
    "    time_use = time_quantum if time_quantum <= last_out_process.time_left else last_out_process.time_left\n",
    "    last_out_process.use_cpu(time_use, time)\n",
    "    time += time_use\n",
    "    schedule.add_schedule(last_out_process.process_ID, time)\n",
    "    if last_out_process.process_complete:\n",
    "        last_out_process = None"
   ],
   "metadata": {
    "collapsed": false,
    "pycharm": {
     "name": "#%%\n"
    }
   }
  },
  {
   "cell_type": "code",
   "execution_count": 42,
   "outputs": [
    {
     "name": "stdout",
     "output_type": "stream",
     "text": [
      "[('p4', 2), ('p4', 4), ('p4', 6), ('p4', 7), ('p2', 9), ('p3', 11), ('p2', 13), ('p3', 15), ('p2', 16), ('p3', 18), ('p3', 20), ('p1', 22), ('p5', 24), ('p1', 26), ('p5', 27)]\n"
     ]
    }
   ],
   "source": [
    "print(schedule.schedule)"
   ],
   "metadata": {
    "collapsed": false,
    "pycharm": {
     "name": "#%%\n"
    }
   }
  },
  {
   "cell_type": "code",
   "execution_count": 43,
   "outputs": [
    {
     "name": "stdout",
     "output_type": "stream",
     "text": [
      "{'PID': 'p1', 'WT': 22, 'RT': 21, 'TT': 26}\n",
      "{'PID': 'p2', 'WT': 11, 'RT': 8, 'TT': 16}\n",
      "{'PID': 'p3', 'WT': 12, 'RT': 10, 'TT': 20}\n",
      "{'PID': 'p4', 'WT': 0, 'RT': 1, 'TT': 7}\n",
      "{'PID': 'p5', 'WT': 24, 'RT': 23, 'TT': 27}\n"
     ]
    }
   ],
   "source": [
    "for p in process_dict.values():\n",
    "    print(p.get_result())"
   ],
   "metadata": {
    "collapsed": false,
    "pycharm": {
     "name": "#%%\n"
    }
   }
  },
  {
   "cell_type": "code",
   "execution_count": null,
   "outputs": [],
   "source": [],
   "metadata": {
    "collapsed": false,
    "pycharm": {
     "name": "#%%\n"
    }
   }
  }
 ],
 "metadata": {
  "kernelspec": {
   "display_name": "Python 3",
   "language": "python",
   "name": "python3"
  },
  "language_info": {
   "codemirror_mode": {
    "name": "ipython",
    "version": 2
   },
   "file_extension": ".py",
   "mimetype": "text/x-python",
   "name": "python",
   "nbconvert_exporter": "python",
   "pygments_lexer": "ipython2",
   "version": "2.7.6"
  }
 },
 "nbformat": 4,
 "nbformat_minor": 0
}