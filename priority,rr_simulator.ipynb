{
 "cells": [
  {
   "cell_type": "code",
   "execution_count": 1,
   "metadata": {
    "pycharm": {
     "name": "#%%\n"
    }
   },
   "outputs": [],
   "source": [
    "from process import Process\n",
    "from priority import Priority\n",
    "from rr import RR"
   ]
  },
  {
   "cell_type": "code",
   "execution_count": 2,
   "metadata": {
    "pycharm": {
     "name": "#%%\n"
    }
   },
   "outputs": [],
   "source": [
    "def generate_process():\n",
    "    p1 = Process('p1', 0, 1, 3, 4) \n",
    "    p2 = Process('p2', 0, 1, 2, 5)\n",
    "    p3 = Process('p3', 0, 1, 2, 8)\n",
    "    p4 = Process('p4', 0, 1, 1, 7)\n",
    "    p5 = Process('p5', 0, 1, 3, 3)\n",
    "    return [p1,p2,p3,p4,p5]"
   ]
  },
  {
   "cell_type": "code",
   "execution_count": 10,
   "metadata": {},
   "outputs": [],
   "source": [
    "#5.31 Priority example\n",
    "#PID, Arrival, Service, Priority, Burst\n",
    "def generate_process_Priority():\n",
    "    p1 = Process('p1', 0, 1, 3, 10)\n",
    "    p2 = Process('p2', 0, 1, 1, 1)\n",
    "    p3 = Process('p3', 0, 1, 4, 2)\n",
    "    p4 = Process('p4', 0, 1, 5, 1)\n",
    "    p5 = Process('p5', 0, 1, 2, 5)\n",
    "    return [p1,p2,p3,p4,p5]"
   ]
  },
  {
   "cell_type": "code",
   "execution_count": null,
   "metadata": {},
   "outputs": [],
   "source": [
    "#5.27 RR example\n",
    "#PID, Arrival, Service, Priority, Burst\n",
    "def generate_process_RR():\n",
    "    p1 = Process('p1', 0, 1, 1, 53)\n",
    "    p2 = Process('p2', 0, 1, 1, 17)\n",
    "    p3 = Process('p3', 0, 1, 1, 68)\n",
    "    p4 = Process('p4', 0, 1, 1, 24)\n",
    "    return [p1,p2,p3,p4]"
   ]
  },
  {
   "cell_type": "markdown",
   "metadata": {
    "pycharm": {
     "name": "#%% md\n"
    }
   },
   "source": [
    "# main.py 에서 Scheduling 과정"
   ]
  },
  {
   "cell_type": "markdown",
   "metadata": {},
   "source": [
    "# RR"
   ]
  },
  {
   "cell_type": "code",
   "execution_count": 8,
   "metadata": {},
   "outputs": [],
   "source": [
    "process_list = generate_process_RR()\n",
    "priority_rr_scheduler = RR(process_list, 20)\n",
    "schedule = priority_rr_scheduler.do_schedule()"
   ]
  },
  {
   "cell_type": "code",
   "execution_count": 9,
   "metadata": {},
   "outputs": [
    {
     "name": "stdout",
     "output_type": "stream",
     "text": [
      "[('p1', 20), ('p2', 37), ('p3', 57), ('p4', 77), ('p1', 97), ('p3', 117), ('p4', 121), ('p1', 134), ('p3', 154), ('p3', 162)]\n"
     ]
    }
   ],
   "source": [
    "print(schedule.schedule)"
   ]
  },
  {
   "cell_type": "markdown",
   "metadata": {},
   "source": [
    "# Priority"
   ]
  },
  {
   "cell_type": "code",
   "execution_count": 12,
   "metadata": {},
   "outputs": [],
   "source": [
    "#priority\n",
    "process_list = generate_process_Priority()\n",
    "priority_rr_scheduler = Priority(process_list)\n",
    "schedule = priority_rr_scheduler.do_schedule()"
   ]
  },
  {
   "cell_type": "code",
   "execution_count": 13,
   "metadata": {},
   "outputs": [
    {
     "name": "stdout",
     "output_type": "stream",
     "text": [
      "[('p2', 1), ('p5', 6), ('p1', 16), ('p3', 18), ('p4', 19)]\n"
     ]
    }
   ],
   "source": [
    "print(schedule.schedule)"
   ]
  }
 ],
 "metadata": {
  "kernelspec": {
   "display_name": "Python 3 (ipykernel)",
   "language": "python",
   "name": "python3"
  },
  "language_info": {
   "codemirror_mode": {
    "name": "ipython",
    "version": 3
   },
   "file_extension": ".py",
   "mimetype": "text/x-python",
   "name": "python",
   "nbconvert_exporter": "python",
   "pygments_lexer": "ipython3",
   "version": "3.9.7"
  }
 },
 "nbformat": 4,
 "nbformat_minor": 1
}
