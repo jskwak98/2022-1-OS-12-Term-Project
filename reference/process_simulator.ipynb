{
 "cells": [
  {
   "cell_type": "markdown",
   "source": [
    "# 1. Process Object 생성\n",
    "\n",
    "* Term project 안내서에 나온대로 PID, Arrival, Service, Priority, Burst 순서대로 Parameter를 입력해 인스턴스화 합니다.\n",
    "\n",
    "* 프로세스 3개를 생성해 리스트 형태로 만들어 시뮬레이션 했습니다."
   ],
   "metadata": {
    "collapsed": false,
    "pycharm": {
     "name": "#%% md\n"
    }
   }
  },
  {
   "cell_type": "code",
   "execution_count": 2,
   "metadata": {
    "collapsed": true,
    "pycharm": {
     "name": "#%%\n"
    }
   },
   "outputs": [
    {
     "ename": "ImportError",
     "evalue": "cannot import name 'Schedule' from partially initialized module 'utils' (most likely due to a circular import) (C:\\Users\\User\\Desktop\\2022-1-OS-12-Term-Project\\utils.py)",
     "output_type": "error",
     "traceback": [
      "\u001B[1;31m---------------------------------------------------------------------------\u001B[0m",
      "\u001B[1;31mImportError\u001B[0m                               Traceback (most recent call last)",
      "Input \u001B[1;32mIn [2]\u001B[0m, in \u001B[0;36m<cell line: 1>\u001B[1;34m()\u001B[0m\n\u001B[1;32m----> 1\u001B[0m \u001B[38;5;28;01mfrom\u001B[39;00m \u001B[38;5;21;01mprocess\u001B[39;00m \u001B[38;5;28;01mimport\u001B[39;00m Process\n\u001B[0;32m      2\u001B[0m \u001B[38;5;28;01mfrom\u001B[39;00m \u001B[38;5;21;01mpprint\u001B[39;00m \u001B[38;5;28;01mimport\u001B[39;00m pprint\n\u001B[0;32m      4\u001B[0m \u001B[38;5;28;01mdef\u001B[39;00m \u001B[38;5;21mreset\u001B[39m():\n",
      "File \u001B[1;32m~\\Desktop\\2022-1-OS-12-Term-Project\\process.py:28\u001B[0m, in \u001B[0;36m<module>\u001B[1;34m\u001B[0m\n\u001B[0;32m      1\u001B[0m \u001B[38;5;124;03m\"\"\"\u001B[39;00m\n\u001B[0;32m      2\u001B[0m \u001B[38;5;124;03mDefine Process class\u001B[39;00m\n\u001B[0;32m      3\u001B[0m \n\u001B[1;32m   (...)\u001B[0m\n\u001B[0;32m     25\u001B[0m \u001B[38;5;124;03mprocess_complete(bool)  : flag used to check whether the process is finished\u001B[39;00m\n\u001B[0;32m     26\u001B[0m \u001B[38;5;124;03m\"\"\"\u001B[39;00m\n\u001B[1;32m---> 28\u001B[0m \u001B[38;5;28;01mfrom\u001B[39;00m \u001B[38;5;21;01mutils\u001B[39;00m \u001B[38;5;28;01mimport\u001B[39;00m WrongCpuBurstTimeError, TimeMismatchError, CompletedProcessAgainError\n\u001B[0;32m     30\u001B[0m \u001B[38;5;28;01mclass\u001B[39;00m \u001B[38;5;21;01mProcess\u001B[39;00m:\n\u001B[0;32m     32\u001B[0m     \u001B[38;5;28;01mdef\u001B[39;00m \u001B[38;5;21m__init__\u001B[39m(\u001B[38;5;28mself\u001B[39m, process_ID: \u001B[38;5;28mstr\u001B[39m, arrival_time: \u001B[38;5;28mint\u001B[39m, service_time: \u001B[38;5;28mint\u001B[39m, priority: \u001B[38;5;28mint\u001B[39m, cpu_burst_time: \u001B[38;5;28mint\u001B[39m):\n",
      "File \u001B[1;32m~\\Desktop\\2022-1-OS-12-Term-Project\\utils.py:1\u001B[0m, in \u001B[0;36m<module>\u001B[1;34m\u001B[0m\n\u001B[1;32m----> 1\u001B[0m from FCFS import FCFS\n\u001B[0;32m      2\u001B[0m from SJF import SJF\n\u001B[0;32m      3\u001B[0m from rr import RR\n",
      "File \u001B[1;32m~\\Desktop\\2022-1-OS-12-Term-Project\\fcfs.py:19\u001B[0m, in \u001B[0;36m<module>\u001B[1;34m\u001B[0m\n\u001B[0;32m     17\u001B[0m \u001B[38;5;28;01mfrom\u001B[39;00m \u001B[38;5;21;01mcollections\u001B[39;00m \u001B[38;5;28;01mimport\u001B[39;00m deque\n\u001B[0;32m     18\u001B[0m \u001B[38;5;28;01mfrom\u001B[39;00m \u001B[38;5;21;01msys\u001B[39;00m \u001B[38;5;28;01mimport\u001B[39;00m ps1\n\u001B[1;32m---> 19\u001B[0m \u001B[38;5;28;01mfrom\u001B[39;00m \u001B[38;5;21;01mscheduler\u001B[39;00m \u001B[38;5;28;01mimport\u001B[39;00m Scheduler\n\u001B[0;32m     20\u001B[0m \u001B[38;5;28;01mfrom\u001B[39;00m \u001B[38;5;21;01mutils\u001B[39;00m \u001B[38;5;28;01mimport\u001B[39;00m Schedule\n\u001B[0;32m     21\u001B[0m \u001B[38;5;28;01mfrom\u001B[39;00m \u001B[38;5;21;01mprocess\u001B[39;00m \u001B[38;5;28;01mimport\u001B[39;00m Process\n",
      "File \u001B[1;32m~\\Desktop\\2022-1-OS-12-Term-Project\\scheduler.py:3\u001B[0m, in \u001B[0;36m<module>\u001B[1;34m\u001B[0m\n\u001B[0;32m      1\u001B[0m \u001B[38;5;28;01mfrom\u001B[39;00m \u001B[38;5;21;01mabc\u001B[39;00m \u001B[38;5;28;01mimport\u001B[39;00m \u001B[38;5;241m*\u001B[39m\n\u001B[1;32m----> 3\u001B[0m \u001B[38;5;28;01mfrom\u001B[39;00m \u001B[38;5;21;01mutils\u001B[39;00m \u001B[38;5;28;01mimport\u001B[39;00m Schedule\n\u001B[0;32m      5\u001B[0m \u001B[38;5;28;01mclass\u001B[39;00m \u001B[38;5;21;01mScheduler\u001B[39;00m(metaclass\u001B[38;5;241m=\u001B[39mABCMeta):\n\u001B[0;32m      6\u001B[0m     \u001B[38;5;124;03m\"\"\"\u001B[39;00m\n\u001B[0;32m      7\u001B[0m \u001B[38;5;124;03m    Abstract Scheduler class which can be used as parent class for each schedulers\u001B[39;00m\n\u001B[0;32m      8\u001B[0m \n\u001B[1;32m   (...)\u001B[0m\n\u001B[0;32m     12\u001B[0m \u001B[38;5;124;03m    +) also added current_time attribute, to keep track of the time while scheduling\u001B[39;00m\n\u001B[0;32m     13\u001B[0m \u001B[38;5;124;03m    \"\"\"\u001B[39;00m\n",
      "\u001B[1;31mImportError\u001B[0m: cannot import name 'Schedule' from partially initialized module 'utils' (most likely due to a circular import) (C:\\Users\\User\\Desktop\\2022-1-OS-12-Term-Project\\utils.py)"
     ]
    }
   ],
   "source": [
    "from process import Process\n",
    "from pprint import pprint\n",
    "\n",
    "def reset():\n",
    "    p0 = Process(\"P0\", 0, 1, 0, 2)\n",
    "    p1 = Process(\"P1\", 1, 1, 0, 3)\n",
    "    p2 = Process(\"P2\", 1, 1, 0, 4)\n",
    "    return [p0,p1,p2]\n",
    "\n",
    "def show_attributes(process):\n",
    "    pprint(vars(process))"
   ]
  },
  {
   "cell_type": "markdown",
   "source": [
    "# 2. Process class method 검증\n",
    "\n",
    "* FCFS 방식대로 scheduling해서 use_cpu 메서드를 실행했습니다.\n",
    "\n",
    "* 이후 get_result 메서드로 WT, RT, TT 모두 올바르게 반환되었음을 확인할 수 있습니다."
   ],
   "metadata": {
    "collapsed": false,
    "pycharm": {
     "name": "#%% md\n"
    }
   }
  },
  {
   "cell_type": "code",
   "execution_count": null,
   "outputs": [],
   "source": [
    "# 올바른 입력으로 Simulate\n",
    "\n",
    "p_list = reset()\n",
    "\n",
    "p_list[0].use_cpu(2, 0)\n",
    "p_list[1].use_cpu(3, 2)\n",
    "p_list[2].use_cpu(4, 5)\n",
    "\n",
    "for p in p_list:\n",
    "    show_attributes(p)"
   ],
   "metadata": {
    "collapsed": false,
    "pycharm": {
     "name": "#%%\n"
    }
   }
  },
  {
   "cell_type": "code",
   "execution_count": null,
   "outputs": [],
   "source": [
    "for p in p_list:\n",
    "    print(p.get_result())"
   ],
   "metadata": {
    "collapsed": false,
    "pycharm": {
     "name": "#%%\n"
    }
   }
  },
  {
   "cell_type": "markdown",
   "source": [
    "# 3. Errors for debugging\n",
    "\n",
    "* Process class 이용시 Scheduler가 제대로 몇 원칙을 위배하지 않았는지 빠르게 확인이 가능하도록 Error class를 몇 가지 상황에 대비해 만들었습니다.\n",
    "\n",
    "* 자세한 내용은 아래를 봐주시거나 utils.py의 Errors를 봐주세요."
   ],
   "metadata": {
    "collapsed": false,
    "pycharm": {
     "name": "#%% md\n"
    }
   }
  },
  {
   "cell_type": "code",
   "execution_count": null,
   "outputs": [],
   "source": [
    "# error test 1; use process again\n",
    "p_list[0].use_cpu(1, 9)"
   ],
   "metadata": {
    "collapsed": false,
    "pycharm": {
     "name": "#%%\n"
    }
   }
  },
  {
   "cell_type": "code",
   "execution_count": null,
   "outputs": [],
   "source": [
    "# error test 2; allocate more than required burst time\n",
    "p_list = reset()\n",
    "p_list[0].use_cpu(3, 0)"
   ],
   "metadata": {
    "collapsed": false,
    "pycharm": {
     "name": "#%%\n"
    }
   }
  },
  {
   "cell_type": "code",
   "execution_count": null,
   "outputs": [],
   "source": [
    "# error test 3; 스케쥴러가 아직 도착하지 않은 Process에 순서를 할당하는 경우\n",
    "p_list[2].use_cpu(2, 0)"
   ],
   "metadata": {
    "collapsed": false,
    "pycharm": {
     "name": "#%%\n"
    }
   }
  },
  {
   "cell_type": "code",
   "execution_count": null,
   "outputs": [],
   "source": [
    "# error test 4; 스케쥴러의 시간을 제대로 count up하지 않아 시간이 맞지 않는 경우\n",
    "p_list = reset()\n",
    "p_list[2].use_cpu(2, 1)\n",
    "print(f\"제대로 실행됨, process 2 남은 burst time {p_list[2].time_left}\")\n",
    "p_list[2].use_cpu(2, 1)"
   ],
   "metadata": {
    "collapsed": false,
    "pycharm": {
     "name": "#%%\n"
    }
   }
  },
  {
   "cell_type": "code",
   "execution_count": null,
   "outputs": [],
   "source": [],
   "metadata": {
    "collapsed": false,
    "pycharm": {
     "name": "#%%\n"
    }
   }
  }
 ],
 "metadata": {
  "kernelspec": {
   "display_name": "Python 3",
   "language": "python",
   "name": "python3"
  },
  "language_info": {
   "codemirror_mode": {
    "name": "ipython",
    "version": 2
   },
   "file_extension": ".py",
   "mimetype": "text/x-python",
   "name": "python",
   "nbconvert_exporter": "python",
   "pygments_lexer": "ipython2",
   "version": "2.7.6"
  }
 },
 "nbformat": 4,
 "nbformat_minor": 0
}