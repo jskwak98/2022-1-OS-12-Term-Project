{
 "cells": [
  {
   "cell_type": "markdown",
   "metadata": {
    "pycharm": {
     "name": "#%% md\n"
    }
   },
   "source": [
    "# 1. Process Object 생성\n",
    "\n",
    "* Term project 안내서에 나온대로 PID, Arrival, Service, Priority, Burst 순서대로 Parameter를 입력해 인스턴스화 합니다.\n",
    "\n",
    "* 프로세스 3개를 생성해 리스트 형태로 만들어 시뮬레이션 했습니다."
   ]
  },
  {
   "cell_type": "code",
   "execution_count": 5,
   "metadata": {
    "collapsed": true,
    "pycharm": {
     "name": "#%%\n"
    }
   },
   "outputs": [],
   "source": [
    "from process import Process\n",
    "from pprint import pprint\n",
    "\n",
    "def reset():\n",
    "    p0 = Process(\"P0\", 0, 2, 0)\n",
    "    p1 = Process(\"P1\", 1, 3, 0)\n",
    "    p2 = Process(\"P2\", 1, 4, 0)\n",
    "    return [p0,p1,p2]\n",
    "\n",
    "def show_attributes(process):\n",
    "    pprint(vars(process))"
   ]
  },
  {
   "cell_type": "markdown",
   "metadata": {
    "pycharm": {
     "name": "#%% md\n"
    }
   },
   "source": [
    "# 2. Process class method 검증\n",
    "\n",
    "* FCFS 방식대로 scheduling해서 use_cpu 메서드를 실행했습니다.\n",
    "\n",
    "* 이후 get_result 메서드로 WT, RT, TT 모두 올바르게 반환되었음을 확인할 수 있습니다."
   ]
  },
  {
   "cell_type": "code",
   "execution_count": 6,
   "metadata": {
    "pycharm": {
     "name": "#%%\n"
    }
   },
   "outputs": [
    {
     "name": "stdout",
     "output_type": "stream",
     "text": [
      "{'arrival_time': 0,\n",
      " 'cpu_burst_time': 2,\n",
      " 'last_time_out': 2,\n",
      " 'priority': 0,\n",
      " 'process_ID': 'P0',\n",
      " 'process_complete': True,\n",
      " 'response_time': 0,\n",
      " 'time_left': 0,\n",
      " 'turnaround_time': 2,\n",
      " 'wait_time': 0}\n",
      "{'arrival_time': 1,\n",
      " 'cpu_burst_time': 3,\n",
      " 'last_time_out': 5,\n",
      " 'priority': 0,\n",
      " 'process_ID': 'P1',\n",
      " 'process_complete': True,\n",
      " 'response_time': 1,\n",
      " 'time_left': 0,\n",
      " 'turnaround_time': 4,\n",
      " 'wait_time': 1}\n",
      "{'arrival_time': 1,\n",
      " 'cpu_burst_time': 4,\n",
      " 'last_time_out': 9,\n",
      " 'priority': 0,\n",
      " 'process_ID': 'P2',\n",
      " 'process_complete': True,\n",
      " 'response_time': 4,\n",
      " 'time_left': 0,\n",
      " 'turnaround_time': 8,\n",
      " 'wait_time': 4}\n"
     ]
    }
   ],
   "source": [
    "# 올바른 입력으로 Simulate\n",
    "\n",
    "p_list = reset()\n",
    "\n",
    "p_list[0].use_cpu(2, 0)\n",
    "p_list[1].use_cpu(3, 2)\n",
    "p_list[2].use_cpu(4, 5)\n",
    "\n",
    "for p in p_list:\n",
    "    show_attributes(p)"
   ]
  },
  {
   "cell_type": "code",
   "execution_count": 7,
   "metadata": {
    "pycharm": {
     "name": "#%%\n"
    }
   },
   "outputs": [
    {
     "name": "stdout",
     "output_type": "stream",
     "text": [
      "{'PID': 'P0', 'WT': 0, 'RT': 0, 'TT': 2}\n",
      "{'PID': 'P1', 'WT': 1, 'RT': 1, 'TT': 4}\n",
      "{'PID': 'P2', 'WT': 4, 'RT': 4, 'TT': 8}\n"
     ]
    }
   ],
   "source": [
    "for p in p_list:\n",
    "    print(p.get_result())"
   ]
  },
  {
   "cell_type": "markdown",
   "metadata": {
    "pycharm": {
     "name": "#%% md\n"
    }
   },
   "source": [
    "# 3. Errors for debugging\n",
    "\n",
    "* Process class 이용시 Scheduler가 제대로 몇 원칙을 위배하지 않았는지 빠르게 확인이 가능하도록 Error class를 몇 가지 상황에 대비해 만들었습니다.\n",
    "\n",
    "* 자세한 내용은 아래를 봐주시거나 utils.py의 Errors를 봐주세요."
   ]
  },
  {
   "cell_type": "code",
   "execution_count": 8,
   "metadata": {
    "pycharm": {
     "name": "#%%\n"
    }
   },
   "outputs": [
    {
     "ename": "CompletedProcessAgainError",
     "evalue": "이미 작업이 완료된 프로세스를 재할당하려 합니다. 스케쥴러의 현 시각 : 9, 프로세스가 CPU 작업을 마친 시각 : 2",
     "output_type": "error",
     "traceback": [
      "\u001b[1;31m---------------------------------------------------------------------------\u001b[0m",
      "\u001b[1;31mCompletedProcessAgainError\u001b[0m                Traceback (most recent call last)",
      "Input \u001b[1;32mIn [8]\u001b[0m, in \u001b[0;36m<cell line: 2>\u001b[1;34m()\u001b[0m\n\u001b[0;32m      1\u001b[0m \u001b[38;5;66;03m# error test 1; use process again\u001b[39;00m\n\u001b[1;32m----> 2\u001b[0m \u001b[43mp_list\u001b[49m\u001b[43m[\u001b[49m\u001b[38;5;241;43m0\u001b[39;49m\u001b[43m]\u001b[49m\u001b[38;5;241;43m.\u001b[39;49m\u001b[43muse_cpu\u001b[49m\u001b[43m(\u001b[49m\u001b[38;5;241;43m1\u001b[39;49m\u001b[43m,\u001b[49m\u001b[43m \u001b[49m\u001b[38;5;241;43m9\u001b[39;49m\u001b[43m)\u001b[49m\n",
      "File \u001b[1;32m~\\Desktop\\2022-1-OS-12-Term-Project\\process.py:64\u001b[0m, in \u001b[0;36mProcess.use_cpu\u001b[1;34m(self, allocated_burst_time, current_time)\u001b[0m\n\u001b[0;32m     62\u001b[0m \u001b[38;5;66;03m# Error occurs when your scheduler allocate CPU to finished process\u001b[39;00m\n\u001b[0;32m     63\u001b[0m \u001b[38;5;28;01mif\u001b[39;00m \u001b[38;5;28mself\u001b[39m\u001b[38;5;241m.\u001b[39mprocess_complete:\n\u001b[1;32m---> 64\u001b[0m     \u001b[38;5;28;01mraise\u001b[39;00m CompletedProcessAgainError(current_time, \u001b[38;5;28mself\u001b[39m\u001b[38;5;241m.\u001b[39mturnaround_time)\n\u001b[0;32m     66\u001b[0m \u001b[38;5;66;03m# Error occurs when your scheduler allocate CPU to process not arrived yet\u001b[39;00m\n\u001b[0;32m     67\u001b[0m \u001b[38;5;28;01mif\u001b[39;00m \u001b[38;5;28mself\u001b[39m\u001b[38;5;241m.\u001b[39marrival_time \u001b[38;5;241m>\u001b[39m current_time:\n",
      "\u001b[1;31mCompletedProcessAgainError\u001b[0m: 이미 작업이 완료된 프로세스를 재할당하려 합니다. 스케쥴러의 현 시각 : 9, 프로세스가 CPU 작업을 마친 시각 : 2"
     ]
    }
   ],
   "source": [
    "# error test 1; use process again\n",
    "p_list[0].use_cpu(1, 9)"
   ]
  },
  {
   "cell_type": "code",
   "execution_count": 9,
   "metadata": {
    "pycharm": {
     "name": "#%%\n"
    }
   },
   "outputs": [
    {
     "ename": "WrongCpuBurstTimeError",
     "evalue": "잘못된 Burst Time 입력입니다. 프로세스의 남은 Burst Time : 2, 스케쥴러가 정한 Burst Time : 3",
     "output_type": "error",
     "traceback": [
      "\u001b[1;31m---------------------------------------------------------------------------\u001b[0m",
      "\u001b[1;31mWrongCpuBurstTimeError\u001b[0m                    Traceback (most recent call last)",
      "Input \u001b[1;32mIn [9]\u001b[0m, in \u001b[0;36m<cell line: 3>\u001b[1;34m()\u001b[0m\n\u001b[0;32m      1\u001b[0m \u001b[38;5;66;03m# error test 2; allocate more than required burst time\u001b[39;00m\n\u001b[0;32m      2\u001b[0m p_list \u001b[38;5;241m=\u001b[39m reset()\n\u001b[1;32m----> 3\u001b[0m \u001b[43mp_list\u001b[49m\u001b[43m[\u001b[49m\u001b[38;5;241;43m0\u001b[39;49m\u001b[43m]\u001b[49m\u001b[38;5;241;43m.\u001b[39;49m\u001b[43muse_cpu\u001b[49m\u001b[43m(\u001b[49m\u001b[38;5;241;43m3\u001b[39;49m\u001b[43m,\u001b[49m\u001b[43m \u001b[49m\u001b[38;5;241;43m0\u001b[39;49m\u001b[43m)\u001b[49m\n",
      "File \u001b[1;32m~\\Desktop\\2022-1-OS-12-Term-Project\\process.py:72\u001b[0m, in \u001b[0;36mProcess.use_cpu\u001b[1;34m(self, allocated_burst_time, current_time)\u001b[0m\n\u001b[0;32m     70\u001b[0m \u001b[38;5;66;03m# Error occurs when your scheduler allocate excessive cpu burst time to the process\u001b[39;00m\n\u001b[0;32m     71\u001b[0m \u001b[38;5;28;01mif\u001b[39;00m allocated_burst_time \u001b[38;5;241m>\u001b[39m \u001b[38;5;28mself\u001b[39m\u001b[38;5;241m.\u001b[39mtime_left:\n\u001b[1;32m---> 72\u001b[0m     \u001b[38;5;28;01mraise\u001b[39;00m WrongCpuBurstTimeError(allocated_burst_time, \u001b[38;5;28mself\u001b[39m\u001b[38;5;241m.\u001b[39mtime_left)\n\u001b[0;32m     74\u001b[0m \u001b[38;5;66;03m# compute wait time and add it up to wait_time\u001b[39;00m\n\u001b[0;32m     75\u001b[0m \u001b[38;5;28;01mif\u001b[39;00m current_time \u001b[38;5;241m-\u001b[39m \u001b[38;5;28mself\u001b[39m\u001b[38;5;241m.\u001b[39mlast_time_out \u001b[38;5;241m<\u001b[39m \u001b[38;5;241m0\u001b[39m:\n",
      "\u001b[1;31mWrongCpuBurstTimeError\u001b[0m: 잘못된 Burst Time 입력입니다. 프로세스의 남은 Burst Time : 2, 스케쥴러가 정한 Burst Time : 3"
     ]
    }
   ],
   "source": [
    "# error test 2; allocate more than required burst time\n",
    "p_list = reset()\n",
    "p_list[0].use_cpu(3, 0)"
   ]
  },
  {
   "cell_type": "code",
   "execution_count": 10,
   "metadata": {
    "pycharm": {
     "name": "#%%\n"
    }
   },
   "outputs": [
    {
     "ename": "TimeMismatchError",
     "evalue": "아직 도착하지 않은 프로세스에 CPU 할당. 스케쥴러의 현 시각 : 0, 프로세스 arrival time : 1",
     "output_type": "error",
     "traceback": [
      "\u001b[1;31m---------------------------------------------------------------------------\u001b[0m",
      "\u001b[1;31mTimeMismatchError\u001b[0m                         Traceback (most recent call last)",
      "Input \u001b[1;32mIn [10]\u001b[0m, in \u001b[0;36m<cell line: 2>\u001b[1;34m()\u001b[0m\n\u001b[0;32m      1\u001b[0m \u001b[38;5;66;03m# error test 3; 스케쥴러가 아직 도착하지 않은 Process에 순서를 할당하는 경우\u001b[39;00m\n\u001b[1;32m----> 2\u001b[0m \u001b[43mp_list\u001b[49m\u001b[43m[\u001b[49m\u001b[38;5;241;43m2\u001b[39;49m\u001b[43m]\u001b[49m\u001b[38;5;241;43m.\u001b[39;49m\u001b[43muse_cpu\u001b[49m\u001b[43m(\u001b[49m\u001b[38;5;241;43m2\u001b[39;49m\u001b[43m,\u001b[49m\u001b[43m \u001b[49m\u001b[38;5;241;43m0\u001b[39;49m\u001b[43m)\u001b[49m\n",
      "File \u001b[1;32m~\\Desktop\\2022-1-OS-12-Term-Project\\process.py:68\u001b[0m, in \u001b[0;36mProcess.use_cpu\u001b[1;34m(self, allocated_burst_time, current_time)\u001b[0m\n\u001b[0;32m     66\u001b[0m \u001b[38;5;66;03m# Error occurs when your scheduler allocate CPU to process not arrived yet\u001b[39;00m\n\u001b[0;32m     67\u001b[0m \u001b[38;5;28;01mif\u001b[39;00m \u001b[38;5;28mself\u001b[39m\u001b[38;5;241m.\u001b[39marrival_time \u001b[38;5;241m>\u001b[39m current_time:\n\u001b[1;32m---> 68\u001b[0m     \u001b[38;5;28;01mraise\u001b[39;00m TimeMismatchError(current_time, \u001b[38;5;28mself\u001b[39m\u001b[38;5;241m.\u001b[39marrival_time, \u001b[38;5;241m0\u001b[39m)\n\u001b[0;32m     70\u001b[0m \u001b[38;5;66;03m# Error occurs when your scheduler allocate excessive cpu burst time to the process\u001b[39;00m\n\u001b[0;32m     71\u001b[0m \u001b[38;5;28;01mif\u001b[39;00m allocated_burst_time \u001b[38;5;241m>\u001b[39m \u001b[38;5;28mself\u001b[39m\u001b[38;5;241m.\u001b[39mtime_left:\n",
      "\u001b[1;31mTimeMismatchError\u001b[0m: 아직 도착하지 않은 프로세스에 CPU 할당. 스케쥴러의 현 시각 : 0, 프로세스 arrival time : 1"
     ]
    }
   ],
   "source": [
    "# error test 3; 스케쥴러가 아직 도착하지 않은 Process에 순서를 할당하는 경우\n",
    "p_list[2].use_cpu(2, 0)"
   ]
  },
  {
   "cell_type": "code",
   "execution_count": 11,
   "metadata": {
    "pycharm": {
     "name": "#%%\n"
    }
   },
   "outputs": [
    {
     "name": "stdout",
     "output_type": "stream",
     "text": [
      "제대로 실행됨, process 2 남은 burst time 2\n"
     ]
    },
    {
     "ename": "TimeMismatchError",
     "evalue": "스케쥴러의 시각은 반드시 프로세스가 최근 CPU를 사용한 시각보다 크거나 같아야 합니다. 스케쥴러의 현 시각 : 1, 프로세스가 CPU에서 나온 가장 최근 시각 : 3",
     "output_type": "error",
     "traceback": [
      "\u001b[1;31m---------------------------------------------------------------------------\u001b[0m",
      "\u001b[1;31mTimeMismatchError\u001b[0m                         Traceback (most recent call last)",
      "Input \u001b[1;32mIn [11]\u001b[0m, in \u001b[0;36m<cell line: 5>\u001b[1;34m()\u001b[0m\n\u001b[0;32m      3\u001b[0m p_list[\u001b[38;5;241m2\u001b[39m]\u001b[38;5;241m.\u001b[39muse_cpu(\u001b[38;5;241m2\u001b[39m, \u001b[38;5;241m1\u001b[39m)\n\u001b[0;32m      4\u001b[0m \u001b[38;5;28mprint\u001b[39m(\u001b[38;5;124mf\u001b[39m\u001b[38;5;124m\"\u001b[39m\u001b[38;5;124m제대로 실행됨, process 2 남은 burst time \u001b[39m\u001b[38;5;132;01m{\u001b[39;00mp_list[\u001b[38;5;241m2\u001b[39m]\u001b[38;5;241m.\u001b[39mtime_left\u001b[38;5;132;01m}\u001b[39;00m\u001b[38;5;124m\"\u001b[39m)\n\u001b[1;32m----> 5\u001b[0m \u001b[43mp_list\u001b[49m\u001b[43m[\u001b[49m\u001b[38;5;241;43m2\u001b[39;49m\u001b[43m]\u001b[49m\u001b[38;5;241;43m.\u001b[39;49m\u001b[43muse_cpu\u001b[49m\u001b[43m(\u001b[49m\u001b[38;5;241;43m2\u001b[39;49m\u001b[43m,\u001b[49m\u001b[43m \u001b[49m\u001b[38;5;241;43m1\u001b[39;49m\u001b[43m)\u001b[49m\n",
      "File \u001b[1;32m~\\Desktop\\2022-1-OS-12-Term-Project\\process.py:76\u001b[0m, in \u001b[0;36mProcess.use_cpu\u001b[1;34m(self, allocated_burst_time, current_time)\u001b[0m\n\u001b[0;32m     74\u001b[0m \u001b[38;5;66;03m# compute wait time and add it up to wait_time\u001b[39;00m\n\u001b[0;32m     75\u001b[0m \u001b[38;5;28;01mif\u001b[39;00m current_time \u001b[38;5;241m-\u001b[39m \u001b[38;5;28mself\u001b[39m\u001b[38;5;241m.\u001b[39mlast_time_out \u001b[38;5;241m<\u001b[39m \u001b[38;5;241m0\u001b[39m:\n\u001b[1;32m---> 76\u001b[0m     \u001b[38;5;28;01mraise\u001b[39;00m TimeMismatchError(current_time, \u001b[38;5;28mself\u001b[39m\u001b[38;5;241m.\u001b[39mlast_time_out)\n\u001b[0;32m     77\u001b[0m \u001b[38;5;28mself\u001b[39m\u001b[38;5;241m.\u001b[39mwait_time \u001b[38;5;241m+\u001b[39m\u001b[38;5;241m=\u001b[39m current_time \u001b[38;5;241m-\u001b[39m \u001b[38;5;28mself\u001b[39m\u001b[38;5;241m.\u001b[39mlast_time_out\n\u001b[0;32m     79\u001b[0m \u001b[38;5;66;03m# check if response happened, if it did, store it to response time\u001b[39;00m\n",
      "\u001b[1;31mTimeMismatchError\u001b[0m: 스케쥴러의 시각은 반드시 프로세스가 최근 CPU를 사용한 시각보다 크거나 같아야 합니다. 스케쥴러의 현 시각 : 1, 프로세스가 CPU에서 나온 가장 최근 시각 : 3"
     ]
    }
   ],
   "source": [
    "# error test 4; 스케쥴러의 시간을 제대로 count up하지 않아 시간이 맞지 않는 경우\n",
    "p_list = reset()\n",
    "p_list[2].use_cpu(2, 1)\n",
    "print(f\"제대로 실행됨, process 2 남은 burst time {p_list[2].time_left}\")\n",
    "p_list[2].use_cpu(2, 1)"
   ]
  },
  {
   "cell_type": "code",
   "execution_count": null,
   "metadata": {
    "pycharm": {
     "name": "#%%\n"
    }
   },
   "outputs": [],
   "source": []
  }
 ],
 "metadata": {
  "kernelspec": {
   "display_name": "Python 3",
   "language": "python",
   "name": "python3"
  },
  "language_info": {
   "codemirror_mode": {
    "name": "ipython",
    "version": 3
   },
   "file_extension": ".py",
   "mimetype": "text/x-python",
   "name": "python",
   "nbconvert_exporter": "python",
   "pygments_lexer": "ipython3",
   "version": "3.10.4"
  }
 },
 "nbformat": 4,
 "nbformat_minor": 1
}
