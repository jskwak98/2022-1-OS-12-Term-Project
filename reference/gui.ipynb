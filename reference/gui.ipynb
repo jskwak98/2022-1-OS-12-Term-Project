{
 "cells": [
  {
   "cell_type": "markdown",
   "source": [
    "# 0. PyQt5 Download"
   ],
   "metadata": {
    "collapsed": false,
    "pycharm": {
     "name": "#%% md\n"
    }
   }
  },
  {
   "cell_type": "code",
   "execution_count": 1,
   "outputs": [
    {
     "name": "stdout",
     "output_type": "stream",
     "text": [
      "Collecting PyQt5\n",
      "  Downloading PyQt5-5.15.6-cp36-abi3-win_amd64.whl (6.7 MB)\n",
      "Collecting PyQt5-sip<13,>=12.8\n",
      "  Downloading PyQt5_sip-12.10.1-cp310-cp310-win_amd64.whl (77 kB)\n",
      "Collecting PyQt5-Qt5>=5.15.2\n",
      "  Downloading PyQt5_Qt5-5.15.2-py3-none-win_amd64.whl (50.1 MB)\n",
      "Installing collected packages: PyQt5-sip, PyQt5-Qt5, PyQt5\n",
      "Successfully installed PyQt5-5.15.6 PyQt5-Qt5-5.15.2 PyQt5-sip-12.10.1\n"
     ]
    },
    {
     "name": "stderr",
     "output_type": "stream",
     "text": [
      "WARNING: You are using pip version 21.2.3; however, version 22.1.1 is available.\n",
      "You should consider upgrading via the 'C:\\Users\\User\\AppData\\Local\\Programs\\Python\\Python310\\python.exe -m pip install --upgrade pip' command.\n"
     ]
    }
   ],
   "source": [
    "#!pip3 install PyQt5"
   ],
   "metadata": {
    "collapsed": false,
    "pycharm": {
     "name": "#%%\n"
    }
   }
  },
  {
   "cell_type": "markdown",
   "source": [],
   "metadata": {
    "collapsed": false,
    "pycharm": {
     "name": "#%% md\n"
    }
   }
  },
  {
   "cell_type": "code",
   "execution_count": 1,
   "outputs": [
    {
     "ename": "SystemExit",
     "evalue": "0",
     "output_type": "error",
     "traceback": [
      "An exception has occurred, use %tb to see the full traceback.\n",
      "\u001B[1;31mSystemExit\u001B[0m\u001B[1;31m:\u001B[0m 0\n"
     ]
    },
    {
     "name": "stderr",
     "output_type": "stream",
     "text": [
      "C:\\Users\\User\\AppData\\Local\\Programs\\Python\\Python310\\lib\\site-packages\\IPython\\core\\interactiveshell.py:3405: UserWarning: To exit: use 'exit', 'quit', or Ctrl-D.\n",
      "  warn(\"To exit: use 'exit', 'quit', or Ctrl-D.\", stacklevel=1)\n"
     ]
    }
   ],
   "source": [
    "import sys\n",
    "from PyQt5.QtWidgets import QApplication, QWidget\n",
    "\n",
    "\n",
    "class MyApp(QWidget):\n",
    "\n",
    "    def __init__(self):\n",
    "        super().__init__()\n",
    "        self.initUI()\n",
    "\n",
    "    def initUI(self):\n",
    "        self.setWindowTitle('My First Application')\n",
    "        self.move(300, 300)\n",
    "        self.resize(400, 200)\n",
    "        self.show()\n",
    "\n",
    "\n",
    "if __name__ == '__main__':\n",
    "   app = QApplication(sys.argv)\n",
    "   ex = MyApp()\n",
    "   sys.exit(app.exec_())"
   ],
   "metadata": {
    "collapsed": false,
    "pycharm": {
     "name": "#%%\n"
    }
   }
  },
  {
   "cell_type": "code",
   "execution_count": 1,
   "outputs": [],
   "source": [
    "## Ex 3-3. 창 닫기.\n",
    "\n",
    "import sys\n",
    "from PyQt5.QtWidgets import QApplication, QWidget, QPushButton\n",
    "from PyQt5.QtCore import QCoreApplication\n",
    "\n",
    "\n",
    "class MyApp(QWidget):\n",
    "\n",
    "  def __init__(self):\n",
    "      super().__init__()\n",
    "      self.initUI()\n",
    "\n",
    "  def initUI(self):\n",
    "      btn = QPushButton('Quit', self)\n",
    "      btn.move(50, 50)\n",
    "      btn.resize(btn.sizeHint())\n",
    "      btn.clicked.connect(QCoreApplication.instance().quit)\n",
    "\n",
    "      self.setWindowTitle('Quit Button')\n",
    "      self.setGeometry(300, 300, 300, 200)\n",
    "      self.show()\n",
    "\n",
    "\n",
    "\n"
   ],
   "metadata": {
    "collapsed": false,
    "pycharm": {
     "name": "#%%\n"
    }
   }
  },
  {
   "cell_type": "code",
   "execution_count": 2,
   "outputs": [
    {
     "ename": "SystemExit",
     "evalue": "0",
     "output_type": "error",
     "traceback": [
      "An exception has occurred, use %tb to see the full traceback.\n",
      "\u001B[1;31mSystemExit\u001B[0m\u001B[1;31m:\u001B[0m 0\n"
     ]
    },
    {
     "name": "stderr",
     "output_type": "stream",
     "text": [
      "C:\\Users\\User\\AppData\\Local\\Programs\\Python\\Python310\\lib\\site-packages\\IPython\\core\\interactiveshell.py:3405: UserWarning: To exit: use 'exit', 'quit', or Ctrl-D.\n",
      "  warn(\"To exit: use 'exit', 'quit', or Ctrl-D.\", stacklevel=1)\n"
     ]
    }
   ],
   "source": [
    "app = QApplication(sys.argv)\n",
    "ex = MyApp()\n",
    "sys.exit(app.exec_())"
   ],
   "metadata": {
    "collapsed": false,
    "pycharm": {
     "name": "#%%\n"
    }
   }
  },
  {
   "cell_type": "code",
   "execution_count": null,
   "outputs": [],
   "source": [
    "# Q group box 참고하자\n",
    "#"
   ],
   "metadata": {
    "collapsed": false,
    "pycharm": {
     "name": "#%%\n"
    }
   }
  },
  {
   "cell_type": "code",
   "execution_count": 1,
   "outputs": [
    {
     "ename": "SystemExit",
     "evalue": "0",
     "output_type": "error",
     "traceback": [
      "An exception has occurred, use %tb to see the full traceback.\n",
      "\u001B[1;31mSystemExit\u001B[0m\u001B[1;31m:\u001B[0m 0\n"
     ]
    },
    {
     "name": "stderr",
     "output_type": "stream",
     "text": [
      "C:\\Users\\User\\AppData\\Local\\Programs\\Python\\Python310\\lib\\site-packages\\IPython\\core\\interactiveshell.py:3405: UserWarning: To exit: use 'exit', 'quit', or Ctrl-D.\n",
      "  warn(\"To exit: use 'exit', 'quit', or Ctrl-D.\", stacklevel=1)\n"
     ]
    }
   ],
   "source": [
    "## Ex 5-14. QSpinBox.\n",
    "\n",
    "import sys\n",
    "from PyQt5.QtWidgets import QApplication, QWidget, QLabel, QSpinBox, QVBoxLayout\n",
    "\n",
    "\n",
    "class MyApp(QWidget):\n",
    "\n",
    "    def __init__(self):\n",
    "        super().__init__()\n",
    "        self.initUI()\n",
    "\n",
    "    def initUI(self):\n",
    "        self.lbl1 = QLabel('QSpinBox')\n",
    "        self.spinbox = QSpinBox()\n",
    "        self.spinbox.setMinimum(-10)\n",
    "        self.spinbox.setMaximum(30)\n",
    "        # self.spinbox.setRange(-10, 30)\n",
    "        self.spinbox.setSingleStep(2)\n",
    "        self.lbl2 = QLabel('0')\n",
    "\n",
    "        self.spinbox.valueChanged.connect(self.value_changed)\n",
    "\n",
    "        vbox = QVBoxLayout()\n",
    "        vbox.addWidget(self.lbl1)\n",
    "        vbox.addWidget(self.spinbox)\n",
    "        vbox.addWidget(self.lbl2)\n",
    "        vbox.addStretch()\n",
    "\n",
    "        self.setLayout(vbox)\n",
    "\n",
    "        self.setWindowTitle('QSpinBox')\n",
    "        self.setGeometry(300, 300, 300, 200)\n",
    "        self.show()\n",
    "\n",
    "    def value_changed(self):\n",
    "        self.lbl2.setText(str(self.spinbox.value()))\n",
    "\n",
    "\n",
    "if __name__ == '__main__':\n",
    "    app = QApplication(sys.argv)\n",
    "    ex = MyApp()\n",
    "    sys.exit(app.exec_())"
   ],
   "metadata": {
    "collapsed": false,
    "pycharm": {
     "name": "#%%\n"
    }
   }
  },
  {
   "cell_type": "code",
   "execution_count": 1,
   "outputs": [],
   "source": [
    "import sys\n",
    "from PyQt5.QtWidgets import (QApplication, QWidget, QGroupBox, QRadioButton\n",
    ", QCheckBox, QPushButton, QMenu, QGridLayout, QVBoxLayout)\n",
    "\n",
    "\n",
    "class MyApp(QWidget):\n",
    "\n",
    "    def __init__(self):\n",
    "        super().__init__()\n",
    "        self.initUI()\n",
    "\n",
    "    def initUI(self):\n",
    "        grid = QGridLayout()\n",
    "        grid.addWidget(self.createFirstExclusiveGroup(), 0, 0)\n",
    "        grid.addWidget(self.createSecondExclusiveGroup(), 1, 0)\n",
    "        grid.addWidget(self.createNonExclusiveGroup(), 0, 1)\n",
    "        grid.addWidget(self.createPushButtonGroup(), 1, 1)\n",
    "\n",
    "        self.setLayout(grid)\n",
    "\n",
    "        self.setWindowTitle('Box Layout')\n",
    "        self.setGeometry(300, 300, 480, 320)\n",
    "        self.show()\n",
    "\n",
    "    def createFirstExclusiveGroup(self):\n",
    "        groupbox = QGroupBox('Exclusive Radio Buttons')\n",
    "\n",
    "        radio1 = QRadioButton('Radio1')\n",
    "        radio2 = QRadioButton('Radio2')\n",
    "        radio3 = QRadioButton('Radio3')\n",
    "        radio1.setChecked(True)\n",
    "\n",
    "        vbox = QVBoxLayout()\n",
    "        vbox.addWidget(radio1)\n",
    "        vbox.addWidget(radio2)\n",
    "        vbox.addWidget(radio3)\n",
    "        groupbox.setLayout(vbox)\n",
    "\n",
    "        return groupbox\n",
    "\n",
    "    def createSecondExclusiveGroup(self):\n",
    "        groupbox = QGroupBox('Exclusive Radio Buttons')\n",
    "        groupbox.setCheckable(True)\n",
    "        groupbox.setChecked(False)\n",
    "\n",
    "        radio1 = QRadioButton('Radio1')\n",
    "        radio2 = QRadioButton('Radio2')\n",
    "        radio3 = QRadioButton('Radio3')\n",
    "        radio1.setChecked(True)\n",
    "        checkbox = QCheckBox('Independent Checkbox')\n",
    "        checkbox.setChecked(True)\n",
    "\n",
    "        vbox = QVBoxLayout()\n",
    "        vbox.addWidget(radio1)\n",
    "        vbox.addWidget(radio2)\n",
    "        vbox.addWidget(radio3)\n",
    "        vbox.addWidget(checkbox)\n",
    "        vbox.addStretch(1)\n",
    "        groupbox.setLayout(vbox)\n",
    "\n",
    "        return groupbox\n",
    "\n",
    "    def createNonExclusiveGroup(self):\n",
    "        groupbox = QGroupBox('Non-Exclusive Checkboxes')\n",
    "        groupbox.setFlat(True)\n",
    "\n",
    "        checkbox1 = QCheckBox('Checkbox1')\n",
    "        checkbox2 = QCheckBox('Checkbox2')\n",
    "        checkbox2.setChecked(True)\n",
    "        tristatebox = QCheckBox('Tri-state Button')\n",
    "        tristatebox.setTristate(True)\n",
    "\n",
    "        vbox = QVBoxLayout()\n",
    "        vbox.addWidget(checkbox1)\n",
    "        vbox.addWidget(checkbox2)\n",
    "        vbox.addWidget(tristatebox)\n",
    "        vbox.addStretch(1)\n",
    "        groupbox.setLayout(vbox)\n",
    "\n",
    "        return groupbox\n",
    "\n",
    "    def createPushButtonGroup(self):\n",
    "        groupbox = QGroupBox('Push Buttons')\n",
    "        groupbox.setCheckable(True)\n",
    "        groupbox.setChecked(True)\n",
    "\n",
    "        pushbutton = QPushButton('Normal Button')\n",
    "        togglebutton = QPushButton('Toggle Button')\n",
    "        togglebutton.setCheckable(True)\n",
    "        togglebutton.setChecked(True)\n",
    "        flatbutton = QPushButton('Flat Button')\n",
    "        flatbutton.setFlat(True)\n",
    "        popupbutton = QPushButton('Popup Button')\n",
    "        menu = QMenu(self)\n",
    "        menu.addAction('First Item')\n",
    "        menu.addAction('Second Item')\n",
    "        menu.addAction('Third Item')\n",
    "        menu.addAction('Fourth Item')\n",
    "        popupbutton.setMenu(menu)\n",
    "\n",
    "        vbox = QVBoxLayout()\n",
    "        vbox.addWidget(pushbutton)\n",
    "        vbox.addWidget(togglebutton)\n",
    "        vbox.addWidget(flatbutton)\n",
    "        vbox.addWidget(popupbutton)\n",
    "        vbox.addStretch(1)\n",
    "        groupbox.setLayout(vbox)\n",
    "\n",
    "        return groupbox"
   ],
   "metadata": {
    "collapsed": false,
    "pycharm": {
     "name": "#%%\n"
    }
   }
  },
  {
   "cell_type": "code",
   "execution_count": 2,
   "outputs": [
    {
     "ename": "SystemExit",
     "evalue": "0",
     "output_type": "error",
     "traceback": [
      "An exception has occurred, use %tb to see the full traceback.\n",
      "\u001B[1;31mSystemExit\u001B[0m\u001B[1;31m:\u001B[0m 0\n"
     ]
    },
    {
     "name": "stderr",
     "output_type": "stream",
     "text": [
      "C:\\Users\\User\\AppData\\Local\\Programs\\Python\\Python310\\lib\\site-packages\\IPython\\core\\interactiveshell.py:3405: UserWarning: To exit: use 'exit', 'quit', or Ctrl-D.\n",
      "  warn(\"To exit: use 'exit', 'quit', or Ctrl-D.\", stacklevel=1)\n"
     ]
    }
   ],
   "source": [
    "app = QApplication(sys.argv)\n",
    "ex = MyApp()\n",
    "sys.exit(app.exec_())"
   ],
   "metadata": {
    "collapsed": false,
    "pycharm": {
     "name": "#%%\n"
    }
   }
  },
  {
   "cell_type": "code",
   "execution_count": null,
   "outputs": [],
   "source": [],
   "metadata": {
    "collapsed": false,
    "pycharm": {
     "name": "#%%\n"
    }
   }
  }
 ],
 "metadata": {
  "kernelspec": {
   "display_name": "Python 3",
   "language": "python",
   "name": "python3"
  },
  "language_info": {
   "codemirror_mode": {
    "name": "ipython",
    "version": 2
   },
   "file_extension": ".py",
   "mimetype": "text/x-python",
   "name": "python",
   "nbconvert_exporter": "python",
   "pygments_lexer": "ipython2",
   "version": "2.7.6"
  }
 },
 "nbformat": 4,
 "nbformat_minor": 0
}