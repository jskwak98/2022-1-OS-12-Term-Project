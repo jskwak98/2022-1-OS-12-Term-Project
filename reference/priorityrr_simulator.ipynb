{
 "cells": [
  {
   "cell_type": "code",
   "execution_count": 25,
   "outputs": [],
   "source": [
    "from process import Process\n",
    "from priorityrr import PriorityRR"
   ],
   "metadata": {
    "collapsed": false,
    "pycharm": {
     "name": "#%%\n"
    }
   }
  },
  {
   "cell_type": "code",
   "execution_count": 30,
   "outputs": [],
   "source": [
    "def generate_process():\n",
    "    p1 = Process('p1', 0, 1, 3, 4) #a,s,p,b\n",
    "    p2 = Process('p2', 0, 1, 2, 5)\n",
    "    p3 = Process('p3', 0, 1, 2, 8)\n",
    "    p4 = Process('p4', 0, 1, 1, 7)\n",
    "    p5 = Process('p5', 0, 1, 3, 3)\n",
    "    return [p1,p2,p3,p4,p5]"
   ],
   "metadata": {
    "collapsed": false,
    "pycharm": {
     "name": "#%%\n"
    }
   }
  },
  {
   "cell_type": "code",
   "execution_count": 31,
   "outputs": [],
   "source": [
    "process_list = generate_process()\n",
    "priority_rr_scheduler = PriorityRR(process_list, 2)\n",
    "schedule = priority_rr_scheduler.do_schedule()"
   ],
   "metadata": {
    "collapsed": false,
    "pycharm": {
     "name": "#%%\n"
    }
   }
  },
  {
   "cell_type": "code",
   "execution_count": 32,
   "outputs": [
    {
     "name": "stdout",
     "output_type": "stream",
     "text": [
      "[('p4', 2), ('p4', 4), ('p4', 6), ('p4', 7), ('p2', 9), ('p3', 11), ('p2', 13), ('p3', 15), ('p2', 16), ('p3', 18), ('p3', 20), ('p1', 22), ('p5', 24), ('p1', 26), ('p5', 27)]\n"
     ]
    }
   ],
   "source": [
    "print(schedule.schedule)"
   ],
   "metadata": {
    "collapsed": false,
    "pycharm": {
     "name": "#%%\n"
    }
   }
  },
  {
   "cell_type": "code",
   "execution_count": 33,
   "outputs": [
    {
     "name": "stdout",
     "output_type": "stream",
     "text": [
      "{'PID': 'p1', 'WT': 22, 'RT': 21, 'TT': 26}\n",
      "{'PID': 'p2', 'WT': 11, 'RT': 8, 'TT': 16}\n",
      "{'PID': 'p3', 'WT': 12, 'RT': 10, 'TT': 20}\n",
      "{'PID': 'p4', 'WT': 0, 'RT': 1, 'TT': 7}\n",
      "{'PID': 'p5', 'WT': 24, 'RT': 23, 'TT': 27}\n"
     ]
    }
   ],
   "source": [
    "for p in process_list:\n",
    "    print(p.get_result())"
   ],
   "metadata": {
    "collapsed": false,
    "pycharm": {
     "name": "#%%\n"
    }
   }
  },
  {
   "cell_type": "code",
   "execution_count": null,
   "outputs": [],
   "source": [],
   "metadata": {
    "collapsed": false,
    "pycharm": {
     "name": "#%%\n"
    }
   }
  }
 ],
 "metadata": {
  "kernelspec": {
   "display_name": "Python 3",
   "language": "python",
   "name": "python3"
  },
  "language_info": {
   "codemirror_mode": {
    "name": "ipython",
    "version": 2
   },
   "file_extension": ".py",
   "mimetype": "text/x-python",
   "name": "python",
   "nbconvert_exporter": "python",
   "pygments_lexer": "ipython2",
   "version": "2.7.6"
  }
 },
 "nbformat": 4,
 "nbformat_minor": 0
}