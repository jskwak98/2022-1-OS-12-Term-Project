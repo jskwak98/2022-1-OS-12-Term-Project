{
 "cells": [
  {
   "cell_type": "code",
   "execution_count": 1,
   "outputs": [],
   "source": [
    "from process import Process\n",
    "from priorityrr import PriorityRR"
   ],
   "metadata": {
    "collapsed": false,
    "pycharm": {
     "name": "#%%\n"
    }
   }
  },
  {
   "cell_type": "code",
   "execution_count": 2,
   "outputs": [],
   "source": [
    "def generate_process():\n",
    "    p1 = Process('p1', 0, 1, 3, 4) #a,s,p,b\n",
    "    p2 = Process('p2', 0, 1, 2, 5)\n",
    "    p3 = Process('p3', 0, 1, 2, 8)\n",
    "    p4 = Process('p4', 0, 1, 1, 7)\n",
    "    p5 = Process('p5', 0, 1, 3, 3)\n",
    "    return [p1,p2,p3,p4,p5]"
   ],
   "metadata": {
    "collapsed": false,
    "pycharm": {
     "name": "#%%\n"
    }
   }
  },
  {
   "cell_type": "markdown",
   "source": [
    "# main.py 에서 Scheduling 과정\n",
    "Process List를 생성하고, 이를 Scheduler에게 전달해, 결과를 반환받습니다.\n",
    "Process 인스턴스 내에 WT, RT, TT 모두 자동적으로 연산되어 저장되어 있습니다.\n",
    "아래의 연산 및 결과는 수업 PPT ch5 part2 20 슬라이드의 나온 예제와 같습니다."
   ],
   "metadata": {
    "collapsed": false,
    "pycharm": {
     "name": "#%% md\n"
    }
   }
  },
  {
   "cell_type": "code",
   "execution_count": 3,
   "outputs": [],
   "source": [
    "process_list = generate_process()\n",
    "priority_rr_scheduler = PriorityRR(process_list, 2)\n",
    "schedule = priority_rr_scheduler.do_schedule()"
   ],
   "metadata": {
    "collapsed": false,
    "pycharm": {
     "name": "#%%\n"
    }
   }
  },
  {
   "cell_type": "code",
   "execution_count": 4,
   "outputs": [
    {
     "name": "stdout",
     "output_type": "stream",
     "text": [
      "[('p4', 7), ('p2', 9), ('p3', 11), ('p2', 13), ('p3', 15), ('p2', 16), ('p3', 20), ('p1', 22), ('p5', 24), ('p1', 26), ('p5', 27)]\n"
     ]
    }
   ],
   "source": [
    "print(schedule.schedule)"
   ],
   "metadata": {
    "collapsed": false,
    "pycharm": {
     "name": "#%%\n"
    }
   }
  },
  {
   "cell_type": "code",
   "execution_count": 5,
   "outputs": [
    {
     "name": "stdout",
     "output_type": "stream",
     "text": [
      "{'PID': 'p1', 'WT': 22, 'RT': 21, 'TT': 26}\n",
      "{'PID': 'p2', 'WT': 11, 'RT': 8, 'TT': 16}\n",
      "{'PID': 'p3', 'WT': 12, 'RT': 10, 'TT': 20}\n",
      "{'PID': 'p4', 'WT': 0, 'RT': 1, 'TT': 7}\n",
      "{'PID': 'p5', 'WT': 24, 'RT': 23, 'TT': 27}\n"
     ]
    }
   ],
   "source": [
    "for p in process_list:\n",
    "    print(p.get_result())"
   ],
   "metadata": {
    "collapsed": false,
    "pycharm": {
     "name": "#%%\n"
    }
   }
  },
  {
   "cell_type": "code",
   "execution_count": 6,
   "outputs": [],
   "source": [
    "#!pip install plotly\n",
    "#!pip install pandas"
   ],
   "metadata": {
    "collapsed": false,
    "pycharm": {
     "name": "#%%\n"
    }
   }
  },
  {
   "cell_type": "code",
   "execution_count": 7,
   "outputs": [],
   "source": [
    "from draw import ChartDrawer\n",
    "\n",
    "cd = ChartDrawer(schedule)\n",
    "thing = cd.draw_gantt_chart()"
   ],
   "metadata": {
    "collapsed": false,
    "pycharm": {
     "name": "#%%\n"
    }
   }
  },
  {
   "cell_type": "code",
   "execution_count": 8,
   "outputs": [],
   "source": [
    "#!pip install PyQtWebEngine"
   ],
   "metadata": {
    "collapsed": false,
    "pycharm": {
     "name": "#%%\n"
    }
   }
  },
  {
   "cell_type": "markdown",
   "source": [],
   "metadata": {
    "collapsed": false,
    "pycharm": {
     "name": "#%% md\n"
    }
   }
  },
  {
   "cell_type": "code",
   "execution_count": 9,
   "outputs": [],
   "source": [
    "from PyQt5 import QtCore, QtWidgets, QtWebEngineWidgets\n",
    "\n",
    "class Widget(QtWidgets.QWidget):\n",
    "    def __init__(self, parent=None):\n",
    "        super().__init__(parent)\n",
    "        self.button = QtWidgets.QPushButton('Plot', self)\n",
    "        self.browser = QtWebEngineWidgets.QWebEngineView(self)\n",
    "\n",
    "        vlayout = QtWidgets.QVBoxLayout(self)\n",
    "        vlayout.addWidget(self.button, alignment=QtCore.Qt.AlignHCenter)\n",
    "        vlayout.addWidget(self.browser)\n",
    "\n",
    "        self.button.clicked.connect(self.show_graph)\n",
    "        self.resize(1000,800)\n",
    "\n",
    "    def show_graph(self):\n",
    "        self.browser.setHtml(thing.to_html(include_plotlyjs='cdn'))\n",
    "\n",
    "if __name__ == \"__main__\":\n",
    "    app = QtWidgets.QApplication([])\n",
    "    widget = Widget()\n",
    "    widget.show()\n",
    "    app.exec()"
   ],
   "metadata": {
    "collapsed": false,
    "pycharm": {
     "name": "#%%\n"
    }
   }
  },
  {
   "cell_type": "markdown",
   "source": [],
   "metadata": {
    "collapsed": false,
    "pycharm": {
     "name": "#%% md\n"
    }
   }
  },
  {
   "cell_type": "code",
   "execution_count": null,
   "outputs": [],
   "source": [
    "#!pip install plotly\n",
    "#!pip install pandas"
   ],
   "metadata": {
    "collapsed": false,
    "pycharm": {
     "name": "#%%\n"
    }
   }
  },
  {
   "cell_type": "code",
   "execution_count": null,
   "outputs": [],
   "source": [
    "from draw import ChartDrawer\n",
    "\n",
    "cd = ChartDrawer(schedule)\n",
    "thing = cd.draw_gantt_chart()"
   ],
   "metadata": {
    "collapsed": false,
    "pycharm": {
     "name": "#%%\n"
    }
   }
  },
  {
   "cell_type": "code",
   "execution_count": null,
   "outputs": [],
   "source": [
    "#!pip install PyQtWebEngine"
   ],
   "metadata": {
    "collapsed": false,
    "pycharm": {
     "name": "#%%\n"
    }
   }
  },
  {
   "cell_type": "markdown",
   "source": [],
   "metadata": {
    "collapsed": false,
    "pycharm": {
     "name": "#%% md\n"
    }
   }
  },
  {
   "cell_type": "code",
   "execution_count": null,
   "outputs": [],
   "source": [
    "from PyQt5 import QtCore, QtWidgets, QtWebEngineWidgets\n",
    "\n",
    "class Widget(QtWidgets.QWidget):\n",
    "    def __init__(self, parent=None):\n",
    "        super().__init__(parent)\n",
    "        self.button = QtWidgets.QPushButton('Plot', self)\n",
    "        self.browser = QtWebEngineWidgets.QWebEngineView(self)\n",
    "\n",
    "        vlayout = QtWidgets.QVBoxLayout(self)\n",
    "        vlayout.addWidget(self.button, alignment=QtCore.Qt.AlignHCenter)\n",
    "        vlayout.addWidget(self.browser)\n",
    "\n",
    "        self.button.clicked.connect(self.show_graph)\n",
    "        self.resize(1000,800)\n",
    "\n",
    "    def show_graph(self):\n",
    "        self.browser.setHtml(thing.to_html(include_plotlyjs='cdn'))\n",
    "\n",
    "if __name__ == \"__main__\":\n",
    "    app = QtWidgets.QApplication([])\n",
    "    widget = Widget()\n",
    "    widget.show()\n",
    "    app.exec()"
   ],
   "metadata": {
    "collapsed": false,
    "pycharm": {
     "name": "#%%\n"
    }
   }
  },
  {
   "cell_type": "markdown",
   "source": [],
   "metadata": {
    "collapsed": false,
    "pycharm": {
     "name": "#%% md\n"
    }
   }
  },
  {
   "cell_type": "code",
   "execution_count": 6,
   "outputs": [],
   "source": [
    "#!pip install plotly\n",
    "#!pip install pandas"
   ],
   "metadata": {
    "collapsed": false,
    "pycharm": {
     "name": "#%%\n"
    }
   }
  },
  {
   "cell_type": "code",
   "execution_count": 7,
   "outputs": [],
   "source": [
    "from draw import ChartDrawer\n",
    "\n",
    "cd = ChartDrawer(schedule)\n",
    "thing = cd.draw_gantt_chart()"
   ],
   "metadata": {
    "collapsed": false,
    "pycharm": {
     "name": "#%%\n"
    }
   }
  },
  {
   "cell_type": "code",
   "execution_count": 8,
   "outputs": [],
   "source": [
    "#!pip install PyQtWebEngine"
   ],
   "metadata": {
    "collapsed": false,
    "pycharm": {
     "name": "#%%\n"
    }
   }
  },
  {
   "cell_type": "markdown",
   "source": [],
   "metadata": {
    "collapsed": false,
    "pycharm": {
     "name": "#%% md\n"
    }
   }
  },
  {
   "cell_type": "code",
   "execution_count": 9,
   "outputs": [],
   "source": [
    "from PyQt5 import QtCore, QtWidgets, QtWebEngineWidgets\n",
    "\n",
    "class Widget(QtWidgets.QWidget):\n",
    "    def __init__(self, parent=None):\n",
    "        super().__init__(parent)\n",
    "        self.button = QtWidgets.QPushButton('Plot', self)\n",
    "        self.browser = QtWebEngineWidgets.QWebEngineView(self)\n",
    "\n",
    "        vlayout = QtWidgets.QVBoxLayout(self)\n",
    "        vlayout.addWidget(self.button, alignment=QtCore.Qt.AlignHCenter)\n",
    "        vlayout.addWidget(self.browser)\n",
    "\n",
    "        self.button.clicked.connect(self.show_graph)\n",
    "        self.resize(1000,800)\n",
    "\n",
    "    def show_graph(self):\n",
    "        self.browser.setHtml(thing.to_html(include_plotlyjs='cdn'))\n",
    "\n",
    "if __name__ == \"__main__\":\n",
    "    app = QtWidgets.QApplication([])\n",
    "    widget = Widget()\n",
    "    widget.show()\n",
    "    app.exec()"
   ],
   "metadata": {
    "collapsed": false,
    "pycharm": {
     "name": "#%%\n"
    }
   }
  },
  {
   "cell_type": "markdown",
   "source": [],
   "metadata": {
    "collapsed": false,
    "pycharm": {
     "name": "#%% md\n"
    }
   }
  }
 ],
 "metadata": {
  "kernelspec": {
   "display_name": "Python 3",
   "language": "python",
   "name": "python3"
  },
  "language_info": {
   "codemirror_mode": {
    "name": "ipython",
    "version": 2
   },
   "file_extension": ".py",
   "mimetype": "text/x-python",
   "name": "python",
   "nbconvert_exporter": "python",
   "pygments_lexer": "ipython2",
   "version": "2.7.6"
  }
 },
 "nbformat": 4,
 "nbformat_minor": 0
}