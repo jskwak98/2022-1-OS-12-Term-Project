{
 "cells": [
  {
   "cell_type": "code",
   "execution_count": 64,
   "metadata": {
    "pycharm": {
     "name": "#%%\n"
    }
   },
   "outputs": [
    {
     "name": "stdout",
     "output_type": "stream",
     "text": [
      "raw file =  ['4\\n', 'p1 0 1 2\\n', 'p2 1 2 3\\n', 'p3 2 3 4\\n', 'p3 3 4 5\\n', '2']\n",
      "process num =  4\n",
      "assinged time =  2\n",
      "source =  [['p1', '0', '1', '2'], ['p2', '1', '2', '3'], ['p3', '2', '3', '4'], ['p3', '3', '4', '5']]\n"
     ]
    }
   ],
   "source": [
    "#과제 pdf의 예시 input 파일의 형식을 기준으로 만들었습니다.\n",
    "#input.txt 를 읽어 프로세스 수, 세부 프로세스 리스트, 시간 할당량을 사용하기 쉽게 다듬는 코드입니다.\n",
    "\n",
    "\n",
    "f = open(\"input.txt\", \"r\") #input 파일 읽기. python 프로그램이랑 같은 디렉토리에 존재하는 input.txt 파일 읽기\n",
    "file = f.readlines()\n",
    "print(\"raw file = \", file) #input.txt를 readlines() 로 그냥 읽으면 이렇게 생겼습니다.\n",
    "\n",
    "l = len(file) #raw file 의 요소 갯수\n",
    "\n",
    "num = \"\" #프로세스 수\n",
    "r = \"\"   #시간 할당량\n",
    "source = [] #세부 프로세스 리스트 \n",
    "\n",
    "#프로세스 수 구하기\n",
    "t = \"\"\n",
    "for i in range(0,len(file[0])):\n",
    "    if file[0][i] != \" \" and file[0][i] != \"\\n\" :\n",
    "        t += file[0][i]\n",
    "num += t\n",
    "num = int(num)\n",
    "print(\"process num = \", num)\n",
    "\n",
    "#텀 구하기\n",
    "t = \"\"\n",
    "for i in range(0,len(file[l-1])):\n",
    "    if file[l-1][i] != \" \" and file[l-1][i] != \"\\n\" :\n",
    "        t += file[l-1][i]\n",
    "r += t\n",
    "r = int(r)\n",
    "print(\"assinged time = \", r)\n",
    "\n",
    "#source 채우기\n",
    "for j in range(1,l-1):\n",
    "    t = \"\"\n",
    "    t1 = []\n",
    "    for i in range(0,len(file[j])):\n",
    "        if file[j][i] != \" \" and file[j][i] != \"\\n\":\n",
    "            t += file[j][i]\n",
    "        else :\n",
    "            t1.append(t)\n",
    "            t = \"\"\n",
    "    source.append(t1)\n",
    "print(\"source = \", source)\n",
    "        \n",
    "f.close()"
   ]
  },
  {
   "cell_type": "code",
   "execution_count": null,
   "metadata": {
    "pycharm": {
     "name": "#%%\n"
    }
   },
   "outputs": [],
   "source": []
  }
 ],
 "metadata": {
  "kernelspec": {
   "display_name": "Python 3",
   "language": "python",
   "name": "python3"
  },
  "language_info": {
   "codemirror_mode": {
    "name": "ipython",
    "version": 3
   },
   "file_extension": ".py",
   "mimetype": "text/x-python",
   "name": "python",
   "nbconvert_exporter": "python",
   "pygments_lexer": "ipython3",
   "version": "3.8.3"
  }
 },
 "nbformat": 4,
 "nbformat_minor": 4
}