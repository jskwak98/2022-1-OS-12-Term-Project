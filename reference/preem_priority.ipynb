{
 "cells": [
  {
   "cell_type": "code",
   "execution_count": null,
   "outputs": [],
   "source": [
    "from process import Process\n",
    "\n",
    "class preem_priority():\n",
    "    def __init__(self, process_list: list):\n",
    "        self.process_list = process_list\n",
    "\n",
    "    def do_schedule(self):\n",
    "        # 레디큐.\n",
    "        ready_q = []\n",
    "\n",
    "        # 프로세스 a 를 레디큐에 넣는 함수\n",
    "        def to_ready(a: Process):\n",
    "            if ready_q:   #큐에 뭐 들어 있으면\n",
    "                for i in range(0, len(ready_q)):\n",
    "                    if a.priority < ready_q[i].priority:   #새로 큐에 들어온게 더 우선순위 높으면\n",
    "                        ready_q[i:i] = [a]   #그 앞에 넣음\n",
    "                        break\n",
    "                    elif i == len(ready_q) - 1:   #큐에 있는 것들보다 우선순위 제일 뒤면\n",
    "                        ready_q.append(a)   #맨 뒤에 넣음\n",
    "            else:\n",
    "                ready_q.append(a)\n",
    "            return 0\n",
    "\n",
    "        # 프로세스 리스트 초반 세팅. 도착시간 빠르고 우선순위 높은 거 먼저오게 정렬\n",
    "        p_l = []\n",
    "        p_l.append(self.process_list[0])\n",
    "        for i in range(1, len(self.process_list)):\n",
    "            for j in range(0, len(p_l)):\n",
    "                if self.process_list[i].arrival_time < p_l[j].arrival_time:  # 도착시간이 더 빠르면 그 앞에 넣기\n",
    "                    p_l[j:j] = [self.process_list[i]]\n",
    "                    break\n",
    "                elif self.process_list[i].arrival_time == p_l[j].arrival_time:  # 도착시간 같을 때\n",
    "                    if self.process_list[i].priority < p_l[j].priority:  # 우선순위 높으면 그 앞에 놓기\n",
    "                        p_l[j:j] = [self.process_list[i]]\n",
    "                        break\n",
    "                if j == len(p_l) - 1:  # p_l 중 젤 늦게 도착하면서 우선순위도 젤 늦으면\n",
    "                    p_l.append(self.process_list[i])\n",
    "\n",
    "        # R = 실행중인 프로세스, p_l = 아직 레디큐에도 안 들어간 프로세스들\n",
    "        R = p_l[0]\n",
    "        p_l = p_l[1:]\n",
    "\n",
    "        #처음 실행되는건 응답시간 무조건 0\n",
    "        R.response_time = 0\n",
    "\n",
    "        # t = 시각\n",
    "        t = R.arrival_time\n",
    "\n",
    "        # 간테 차트를 위한 리스트. [p1,10] 이면 10까지 p1이 run 했다는 뜻.\n",
    "        gan = []\n",
    "        if t > 0:\n",
    "            gan.append(['XXX', t])\n",
    "\n",
    "        # 무한루프 시작\n",
    "        while True:\n",
    "            if p_l:  # 도착 안 한 프로세스가 있을 때\n",
    "                BBB = p_l[0].arrival_time\n",
    "\n",
    "                if (t + R.time_left) < BBB:  # 실행 끝날 때까지 새 프로세스 도착 안하면\n",
    "                    t = t + R.time_left  # 실행중인 프로세스 종료 시간으로 바꿔주고\n",
    "                    for proc in ready_q:  # 대기시간 증가\n",
    "                        proc.wait_time = proc.wait_time + R.time_left\n",
    "                    gan.append([R.process_ID, t])  # 간테차트에 그리고\n",
    "                    R.time_left = 0  # 실행중인거 다 수행\n",
    "                    R.turnaround_time = t - R.arrival_time  # 반환시간 기록\n",
    "\n",
    "                    if ready_q:   #레디큐에 있으면\n",
    "                        R = ready_q[0]  # 레디큐 맨 앞에 있는 걸 실행\n",
    "                        ready_q = ready_q[1:]  # 레디큐에서 뺐으니 삭제해줌\n",
    "\n",
    "                        if R.response_time == -1:  # 큐에 있던 것이 처음 실행되는 거면\n",
    "                            R.response_time = R.wait_time  # 응답시간 = 대기시간\n",
    "                    else :   #레디큐에 없으면\n",
    "                        t = BBB   #그 다음 오는 놈인 p_l[0] 이 실행되니\n",
    "                        R = p_l[0]\n",
    "                        p_l = p_l[1:]\n",
    "                        gan.append(['XXX', t])  # 간테차트. 이땐 아무것도 없음\n",
    "\n",
    "                        R.response_time = 0  # 도착하고 바로 실행되니 응답시간 0\n",
    "\n",
    "                    continue\n",
    "\n",
    "                elif (t + R.time_left) > BBB:  # 실행 중에 도착하면\n",
    "                    for proc in ready_q:  # 대기시간 증가\n",
    "                        proc.wait_time = proc.wait_time + BBB - t\n",
    "                    R.time_left = R.time_left - BBB + t\n",
    "                    t = BBB  # 시간을 바꿔주고\n",
    "\n",
    "                    if R.priority <= p_l[0].priority:  # 실행 중인게 더 우선순위 높거나 같으면\n",
    "                        to_ready(p_l[0])  # 도착한거 큐에 넣음\n",
    "                        p_l = p_l[1:]\n",
    "                        continue\n",
    "                    else:  # 도착한게 더 우선순위 높으면\n",
    "                        to_ready(R)  # 실행 중이던거 큐에 넣음\n",
    "                        gan.append([R.process_ID, t])  # 간태차트\n",
    "                        R = p_l[0]  # 도착한거 실행\n",
    "                        p_l = p_l[1:]\n",
    "\n",
    "                        R.response_time = 0   #도착하고 바로 실행되니 응답시간 0\n",
    "                        continue\n",
    "                else:  # 실행 끝 = 도착시간\n",
    "                    for proc in ready_q:  # 대기시간 증가\n",
    "                        proc.wait_time = proc.wait_time + BBB - t\n",
    "                    R.time_left = 0  # 실행중인거 다 수행\n",
    "                    t = BBB  # 시간을 바꿔주고\n",
    "\n",
    "                    R.turnaround_time = t - R.arrival_time  # 반환시간 기록\n",
    "                    gan.append([R.process_ID, t])  # 간태차트\n",
    "                    to_ready(p_l[0])  # 도착한거 큐에 넣음\n",
    "                    p_l = p_l[1:]\n",
    "                    R = ready_q[0]  # 큐 제일 앞에거 실행\n",
    "                    ready_q = ready_q[1:]\n",
    "\n",
    "                    if (R.response_time == -1) and (R.wait_time == 0):   #도착한놈이 바로 실행되면\n",
    "                        R.response_time = 0  # 도착하고 바로 실행되니 응답시간 0\n",
    "                    elif R.response_time == -1 : #큐에 있던 놈이 처음 실행되는 거면\n",
    "                        R.response_time = R.wait_time   #응답시간 = 대기시간\n",
    "\n",
    "                    continue\n",
    "            else:  # 도착 안한게 없을 때\n",
    "                if ready_q:  # 레디큐에 프로세스가 남아있을 때\n",
    "                    t = t + R.time_left  # 시간을 바꿔주고\n",
    "                    for proc in ready_q:  # 대기시간 증가\n",
    "                        proc.wait_time = proc.wait_time + R.time_left\n",
    "                    R.time_left = 0  # 실행중인거 다 수행\n",
    "                    R.turnaround_time = t - R.arrival_time  # 반환시간 기록\n",
    "                    gan.append([R.process_ID, t])  # 간태차트\n",
    "                    R = ready_q[0]  # 큐 제일 앞에거 실행\n",
    "                    ready_q = ready_q[1:]\n",
    "\n",
    "                    if R.response_time == -1 : #아직 한번도 실행 안됐던 거면\n",
    "                        R.response_time = R.wait_time   #응답시간 = 대기시간\n",
    "\n",
    "                    continue\n",
    "                else:  # 레디큐에 프로세스가 없을 때\n",
    "                    if R:  # 실행중인게 있을 때\n",
    "                        t = t + R.time_left  # 시간을 바꿔주고\n",
    "                        R.time_left = 0  # 실행중인거 다 수행\n",
    "                        R.turnaround_time = t - R.arrival_time  # 반환시간 기록\n",
    "                        gan.append([R.process_ID, t])  # 간태차트\n",
    "                        break\n",
    "                    else:  # 실행 중인것도 없을 때?\n",
    "                        break\n",
    "\n",
    "        # 평균 대기시간 구하기\n",
    "        total_wait = 0\n",
    "        for proc in self.process_list:\n",
    "            total_wait += proc.wait_time\n",
    "        ave_wait = total_wait / len(self.process_list)\n",
    "\n",
    "        # 평균 응답시간 구하기\n",
    "        total_response = 0\n",
    "        for proc in self.process_list:\n",
    "            total_response += proc.response_time\n",
    "        ave_response = total_response / len(self.process_list)\n",
    "\n",
    "        # 평균 반환시간 구하기\n",
    "        total_turn = 0\n",
    "        for proc in self.process_list:\n",
    "            total_turn += proc.turnaround_time\n",
    "        ave_turn = total_turn / len(self.process_list)\n",
    "\n",
    "        # 결과값 : 프로세스 리스트, 평균 대기시간, 평균 응답시간, 평균 반환시간, 간테차트용 리스트\n",
    "        return [self.process_list, ave_wait, ave_response, ave_turn, gan]\n"
   ],
   "metadata": {
    "collapsed": false,
    "pycharm": {
     "name": "#%%\n"
    }
   }
  },
  {
   "cell_type": "code",
   "execution_count": null,
   "outputs": [],
   "source": [
    "def generate_process():\n",
    "    p1 = Process('p1', 0, 1, 3, 10) #a,s,p,b\n",
    "    p2 = Process('p2', 1, 1, 2, 28)\n",
    "    p3 = Process('p3', 2, 1, 4, 6)\n",
    "    p4 = Process('p4', 3, 1, 1, 4)\n",
    "    p5 = Process('p5', 4, 1, 2, 14)\n",
    "    return [p1,p2,p3,p4,p5]"
   ],
   "metadata": {
    "collapsed": false,
    "pycharm": {
     "name": "#%%\n"
    }
   }
  },
  {
   "cell_type": "code",
   "execution_count": null,
   "outputs": [],
   "source": [
    "process_list = generate_process()\n",
    "rrr = preem_priority(process_list)\n",
    "schedule = rrr.do_schedule()\n",
    "print(schedule)"
<<<<<<< HEAD
   ],
   "metadata": {
    "collapsed": false,
    "pycharm": {
     "name": "#%%\n"
    }
   }
  },
  {
   "cell_type": "code",
   "execution_count": null,
   "outputs": [],
   "source": [
    "for p in process_list:\n",
    "    print(p.get_result())"
   ],
   "metadata": {
    "collapsed": false,
    "pycharm": {
     "name": "#%%\n"
    }
   }
  },
  {
   "cell_type": "code",
   "execution_count": null,
   "outputs": [],
   "source": [
    "a,b,c,d = p.get_result().values()\n",
    "print(a)"
   ],
   "metadata": {
    "collapsed": false,
    "pycharm": {
     "name": "#%%\n"
    }
   }
  },
  {
   "cell_type": "code",
   "execution_count": 6,
   "outputs": [
    {
     "name": "stdout",
     "output_type": "stream",
     "text": [
      "p5\n"
     ]
    }
   ],
   "source": [
    "a,b,c,d = p.get_result().values()\n",
    "print(a)"
   ],
=======
   ],
>>>>>>> merge
   "metadata": {
    "collapsed": false,
    "pycharm": {
     "name": "#%%\n"
    }
   }
  },
  {
   "cell_type": "code",
   "execution_count": null,
   "outputs": [],
<<<<<<< HEAD
   "source": [],
=======
   "source": [
    "for p in process_list:\n",
    "    print(p.get_result())"
   ],
>>>>>>> merge
   "metadata": {
    "collapsed": false,
    "pycharm": {
     "name": "#%%\n"
    }
   }
  }
 ],
 "metadata": {
  "kernelspec": {
   "display_name": "Python 3",
   "language": "python",
   "name": "python3"
  },
  "language_info": {
   "codemirror_mode": {
    "name": "ipython",
    "version": 3
   },
   "file_extension": ".py",
   "mimetype": "text/x-python",
   "name": "python",
   "nbconvert_exporter": "python",
   "pygments_lexer": "ipython3",
   "version": "3.8.3"
  }
 },
 "nbformat": 4,
 "nbformat_minor": 4
}